{
 "cells": [
  {
   "cell_type": "markdown",
   "id": "1a492fa6",
   "metadata": {},
   "source": [
    "# HW 2"
   ]
  },
  {
   "cell_type": "code",
   "execution_count": null,
   "id": "af94b2d8",
   "metadata": {
    "vscode": {
     "languageId": "plaintext"
    }
   },
   "outputs": [],
   "source": []
  }
 ],
 "metadata": {
  "language_info": {
   "name": "python"
  }
 },
 "nbformat": 4,
 "nbformat_minor": 5
}
