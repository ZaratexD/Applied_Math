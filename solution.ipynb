{
 "cells": [
  {
   "cell_type": "code",
   "execution_count": null,
   "id": "18145f91",
   "metadata": {},
   "outputs": [],
   "source": [
    "\"\"\"\n",
    "HW 1\n",
    "\"\"\"\n",
    "\n",
    "import numpy as np\n",
    "from scipy.integrate import solve_ivp\n",
    "\n",
    "import matplotlib.pyplot as plt\n"
   ]
  },
  {
   "cell_type": "code",
   "execution_count": 3,
   "id": "fa18bd96",
   "metadata": {},
   "outputs": [],
   "source": [
    "# 1. Consider the ODE\n",
    "\n",
    "def dydt (y_n, t_n):\n",
    "    \n",
    "    return -3*y_n*np.sin(t_n)\n",
    "\n",
    "y_0 = np.pi/np.sqrt(2)"
   ]
  },
  {
   "cell_type": "code",
   "execution_count": 4,
   "id": "8d7af7f5",
   "metadata": {},
   "outputs": [],
   "source": [
    "# ONE DELTA\n",
    "def FE(y_0, delta_t, f):\n",
    "    t = np.arange(0, 5 + delta_t, delta_t)\n",
    "    \n",
    "    y_n = y_0\n",
    "    results = []\n",
    "    for t_n in t:\n",
    "        y_new = y_n + delta_t * f(y_n, t_n)\n",
    "\n",
    "        results.append(y_new)\n",
    "        y_n = y_new\n",
    "    results = np.array(results)\n",
    "    \n",
    "    return t, results\n",
    "    #return np.array([t.T,results.T])"
   ]
  },
  {
   "cell_type": "code",
   "execution_count": null,
   "id": "072402e4",
   "metadata": {},
   "outputs": [],
   "source": [
    "## FOR MULTIPLE DELTA\n",
    "for delta_t in delta_arr:\n",
    "    t = 0\n",
    "    y_n1 = y_n + delta_t * f(t_n, y_n)"
   ]
  },
  {
   "cell_type": "code",
   "execution_count": 5,
   "id": "c671dd02",
   "metadata": {},
   "outputs": [
    {
     "name": "stdout",
     "output_type": "stream",
     "text": [
      "[0.   0.25 0.5  0.75 1.   1.25 1.5  1.75 2.   2.25 2.5  2.75 3.   3.25\n",
      " 3.5  3.75 4.   4.25 4.5  4.75 5.  ] [2.22144147e+00 1.80924641e+00 1.15869721e+00 5.66337512e-01\n",
      " 2.08920074e-01 6.02236213e-02 1.51690511e-02 3.97445126e-03\n",
      " 1.26398253e-03 5.26379335e-04 2.90111808e-04 2.07068538e-04\n",
      " 1.85152402e-04 2.00176844e-04 2.52840854e-04 3.61226393e-04\n",
      " 5.66259169e-04 9.46356117e-04 1.64017482e-03 2.86943598e-03\n",
      " 4.93311483e-03]\n"
     ]
    }
   ],
   "source": [
    "time_steps, results = FE(y_0, 2**(-2), dydt)\n",
    "print(time_steps, results)"
   ]
  },
  {
   "cell_type": "code",
   "execution_count": null,
   "id": "c5cda26b",
   "metadata": {},
   "outputs": [],
   "source": [
    "plt.plot(time_steps, results, '-', label='Predicted')\n",
    "plt.grid(True)\n",
    "plt.legend()\n",
    "plt.show"
   ]
  }
 ],
 "metadata": {
  "kernelspec": {
   "display_name": "dataProject",
   "language": "python",
   "name": "python3"
  },
  "language_info": {
   "codemirror_mode": {
    "name": "ipython",
    "version": 3
   },
   "file_extension": ".py",
   "mimetype": "text/x-python",
   "name": "python",
   "nbconvert_exporter": "python",
   "pygments_lexer": "ipython3",
   "version": "3.11.8"
  }
 },
 "nbformat": 4,
 "nbformat_minor": 5
}
