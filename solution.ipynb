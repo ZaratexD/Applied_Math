{
 "cells": [
  {
   "cell_type": "code",
   "execution_count": null,
   "id": "f8100087",
   "metadata": {},
   "outputs": [],
   "source": [
    "import numpy as np\n",
    "from scipy.integrate import solve_ivp, trapezoid\n",
    "from scipy.linalg import eig"
   ]
  },
  {
   "cell_type": "code",
   "execution_count": null,
   "id": "e02df272",
   "metadata": {},
   "outputs": [],
   "source": [
    "# Your solution code goes here\n",
    "# Rememeber to assign the following variables\n",
    "A1  = 0\n",
    "A2  = 0\n",
    "A3  = 0\n",
    "A4  = 0\n",
    "A5  = 0\n",
    "A6  = 0\n",
    "A7  = 0\n",
    "A8  = 0\n",
    "A9  = 0\n",
    "A10 = 0\n",
    "A11 = 0\n",
    "A12 = 0\n",
    "A13 = 0\n",
    "A14 = 0\n",
    "A15 = 0\n",
    "A16 = 0\n",
    "A17 = 0\n",
    "A18 = 0"
   ]
  }
 ],
 "metadata": {
  "language_info": {
   "name": "python"
  }
 },
 "nbformat": 4,
 "nbformat_minor": 5
}
