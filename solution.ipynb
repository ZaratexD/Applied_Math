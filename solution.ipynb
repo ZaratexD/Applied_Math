{
 "cells": [
  {
   "cell_type": "code",
   "execution_count": null,
   "id": "18145f91",
   "metadata": {},
   "outputs": [],
   "source": [
    "\"\"\"\n",
    "HW 1\n",
    "\"\"\"\n",
    "\n",
    "import numpy as np\n",
    "from scipy.integrate import solve_ivp\n"
   ]
  },
  {
   "cell_type": "code",
   "execution_count": null,
   "id": "fa18bd96",
   "metadata": {},
   "outputs": [],
   "source": []
  }
 ],
 "metadata": {
  "kernelspec": {
   "display_name": "dataProject",
   "language": "python",
   "name": "python3"
  },
  "language_info": {
   "codemirror_mode": {
    "name": "ipython",
    "version": 3
   },
   "file_extension": ".py",
   "mimetype": "text/x-python",
   "name": "python",
   "nbconvert_exporter": "python",
   "pygments_lexer": "ipython3",
   "version": "3.11.8"
  }
 },
 "nbformat": 4,
 "nbformat_minor": 5
}
